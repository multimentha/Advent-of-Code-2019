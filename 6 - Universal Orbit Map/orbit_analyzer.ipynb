{
 "nbformat": 4,
 "nbformat_minor": 2,
 "metadata": {
  "language_info": {
   "name": "python",
   "codemirror_mode": {
    "name": "ipython",
    "version": 3
   },
   "version": "3.7.5"
  },
  "orig_nbformat": 2,
  "file_extension": ".py",
  "mimetype": "text/x-python",
  "name": "python",
  "npconvert_exporter": "python",
  "pygments_lexer": "ipython3",
  "version": 3
 },
 "cells": [
  {
   "cell_type": "markdown",
   "metadata": {},
   "outputs": [],
   "source": [
    "# Part 1 steps\n",
    "First thing will be: what data structure to we want to parse the orbit data into?\n",
    "\n",
    "1. load data from file into dictionary, so that we can look up the center for each planet\n",
    "2. Recursively look up a planet and the the planet around which it rotates\n"
   ]
  },
  {
   "cell_type": "markdown",
   "metadata": {},
   "outputs": [],
   "source": [
    "## previous guesses for part 1\n",
    "150115 - too high\n",
    "\n",
    "148961 - too high\n",
    "\n",
    "147807 - correct!\n"
   ]
  },
  {
   "cell_type": "markdown",
   "metadata": {},
   "outputs": [],
   "source": [
    "## load data into dictionary\n"
   ]
  },
  {
   "cell_type": "code",
   "metadata": {},
   "outputs": [],
   "source": [
    "import pprint as pp\n",
    "\n",
    "input_path = \"6 - Universal Orbit Map/input/orbit_map_p1.txt\"\n",
    "orbit_map = dict()\n",
    "with open(input_path, \"r\") as fh:\n",
    "    # create entry for common mass (the sun)\n",
    "    for i, l in enumerate(fh):\n",
    "        center, sattelite = l.strip().split(\")\")\n",
    "        orbit_map[sattelite] = center\n",
    "# pp.pprint(orbit_map)\n",
    "# print(len(orbit_map))  # should be 1154"
   ]
  },
  {
   "cell_type": "markdown",
   "metadata": {},
   "outputs": [],
   "source": [
    "## gather total amount of orbits\n"
   ]
  },
  {
   "cell_type": "code",
   "metadata": {},
   "outputs": [],
   "source": [
    "total = 0\n",
    "for planet in orbit_map:\n",
    "    while planet in orbit_map:\n",
    "        total += 1\n",
    "        planet = orbit_map[planet]\n",
    "print(total)"
   ]
  },
  {
   "cell_type": "markdown",
   "metadata": {},
   "outputs": [],
   "source": [
    "# Part 2 - steps\n",
    "\n",
    "1. Use networkx to create a undirected graph from the dictionary data\n",
    "1. Find the shortest path between the planet YOU are orbiting and the one SANTA is orbiting"
   ]
  },
  {
   "cell_type": "markdown",
   "metadata": {},
   "outputs": [],
   "source": [
    "## previous guesses for part 2\n",
    "\n",
    "* 230 - too high; for this guess I took len(nodes_in_path), but this is one too high, as edges are *between* nodes (¡a path list with 1 edge requires 2 nodes not 1!)\n",
    "* 229 - correct; networkx even offers a direct method to measure the length of a shortest path. No need to compute the length manually via len(shortest_path), unless perhaps you need the nodes in the path anyway.\n"
   ]
  },
  {
   "cell_type": "code",
   "execution_count": 20,
   "metadata": {},
   "outputs": [
    {
     "name": "stdout",
     "output_type": "stream",
     "text": "Minimum jumps required to orbit the same planet as SAN (Santa Claus):\n229\n"
    }
   ],
   "source": [
    "import networkx\n",
    "\n",
    "orbit_graph = networkx.Graph()\n",
    "# nodes are created as necessary\n",
    "orbit_graph.add_edges_from(orbit_map.items())\n",
    "# networkx can return the shortest path between 2 nodes a list of edges\n",
    "shortest_path = networkx.shortest_path(orbit_graph, 'YOU', 'SAN')\n",
    "# The question asks for the shortest path between the 2 planets that YOU and SAN are orbiting, not between YOU and SAN. Thus we have to subtract 2 jumps.\n",
    "min_orbital_transfers = networkx.shortest_path_length(orbit_graph, \"YOU\", \"SAN\") - 2\n",
    "print(f\"Minimum jumps required to orbit the same planet as SAN (Santa Claus):\\n{min_orbital_transfers}\")"
   ]
  },
  {
   "cell_type": "code",
   "metadata": {},
   "outputs": [],
   "source": [
    "\n",
    "\n",
    "\n",
    "\n",
    "\n"
   ]
  }
 ]
}