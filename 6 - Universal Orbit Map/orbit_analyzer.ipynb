{
 "nbformat": 4,
 "nbformat_minor": 2,
 "metadata": {
  "language_info": {
   "name": "python",
   "codemirror_mode": {
    "name": "ipython",
    "version": 3
   },
   "version": "3.7.5"
  },
  "orig_nbformat": 2,
  "file_extension": ".py",
  "mimetype": "text/x-python",
  "name": "python",
  "npconvert_exporter": "python",
  "pygments_lexer": "ipython3",
  "version": 3
 },
 "cells": [
  {
   "cell_type": "markdown",
   "metadata": {},
   "outputs": [],
   "source": [
    "# steps\n",
    "First thing will be: what data structure to we want to parse the orbit data into?\n",
    "\n",
    "1. load data from file into dictionary, so that we can look up the center for each planet"
   ]
  },
  {
   "cell_type": "markdown",
   "metadata": {},
   "outputs": [],
   "source": [
    "## previous guesses\n",
    "150115 - too high\n",
    "\n",
    "148961 - too high\n",
    "\n",
    "147807 - correct!\n"
   ]
  },
  {
   "cell_type": "markdown",
   "metadata": {},
   "outputs": [],
   "source": [
    "## load data into dictionary\n"
   ]
  },
  {
   "cell_type": "code",
   "metadata": {},
   "outputs": [],
   "source": [
    "import pprint as pp\n",
    "\n",
    "input_path = \"6 - Universal Orbit Map/input/orbit_map_p1.txt\"\n",
    "orbit_map = dict()\n",
    "with open(input_path, \"r\") as fh:\n",
    "    # create entry for common mass (the sun)\n",
    "    for i, l in enumerate(fh):\n",
    "        center, sattelite = l.strip().split(\")\")\n",
    "        orbit_map[sattelite] = center\n",
    "# pp.pprint(orbit_map)\n",
    "# print(len(orbit_map))  # should be 1154"
   ]
  },
  {
   "cell_type": "markdown",
   "metadata": {},
   "outputs": [],
   "source": [
    "## gather total amount of orbits\n"
   ]
  },
  {
   "cell_type": "code",
   "metadata": {},
   "outputs": [],
   "source": [
    "total = 0\n",
    "for planet in orbit_map:\n",
    "    while planet in orbit_map:\n",
    "        total += 1\n",
    "        planet = orbit_map[planet]\n",
    "print(total)"
   ]
  },
  {
   "cell_type": "code",
   "metadata": {},
   "outputs": [],
   "source": []
  }
 ]
}